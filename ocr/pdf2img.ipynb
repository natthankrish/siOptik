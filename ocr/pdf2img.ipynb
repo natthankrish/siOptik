{
 "cells": [
  {
   "cell_type": "code",
   "execution_count": 4,
   "metadata": {},
   "outputs": [],
   "source": [
    "from pdf2image import convert_from_path\n",
    "import os"
   ]
  },
  {
   "cell_type": "code",
   "execution_count": 5,
   "metadata": {},
   "outputs": [],
   "source": [
    "def pdf_to_img(path_list, curr_dir):\n",
    "  for path in path_list:\n",
    "    data_dir = os.path.join(curr_dir, 'data')\n",
    "    img_dir = os.path.join(curr_dir, 'img')\n",
    "    path = os.path.join(data_dir, path)\n",
    "    print(path)\n",
    "    try:\n",
    "        filename = path.split('\\\\')[-1].split('.')[0]\n",
    "        print(filename)\n",
    "        images = convert_from_path(path)\n",
    "        # file = open(path, \"rb\")\n",
    "        # print(PyPDF2.PdfFileReader(file))\n",
    "        # images = convert_from_bytes(open(path, 'r').read())\n",
    "        for i in range(len(images)):\n",
    "          img = images[i]\n",
    "          res_filename = os.path.join(img_dir, filename+'-['+str(i)+'].jpg')\n",
    "          img.save(res_filename, \"JPEG\")\n",
    "        print(filename, 'is successfully converted')\n",
    "    except:\n",
    "      result = \"No PDF found\"\n",
    "      print(result)"
   ]
  },
  {
   "cell_type": "code",
   "execution_count": 6,
   "metadata": {},
   "outputs": [
    {
     "name": "stdout",
     "output_type": "stream",
     "text": [
      "d:\\Folder Kuliah Cadangan\\Sems 6\\PPL\\temp-ocr\\data\\C-Hasil-P-PPWP-03-LN-POS.pdf\n",
      "C-Hasil-P-PPWP-03-LN-POS\n",
      "C-Hasil-P-PPWP-03-LN-POS is successfully converted\n",
      "d:\\Folder Kuliah Cadangan\\Sems 6\\PPL\\temp-ocr\\data\\C-Hasil-P-PPWP-03-LN.pdf\n",
      "C-Hasil-P-PPWP-03-LN\n",
      "C-Hasil-P-PPWP-03-LN is successfully converted\n",
      "d:\\Folder Kuliah Cadangan\\Sems 6\\PPL\\temp-ocr\\data\\C-Hasil-P-PPWP-03.pdf\n",
      "C-Hasil-P-PPWP-03\n",
      "C-Hasil-P-PPWP-03 is successfully converted\n",
      "d:\\Folder Kuliah Cadangan\\Sems 6\\PPL\\temp-ocr\\data\\CHP-100818X - [DAERAH PEMILIHAN - 08] - LN - H.pdf\n",
      "CHP-100818X - [DAERAH PEMILIHAN - 08] - LN - H\n",
      "CHP-100818X - [DAERAH PEMILIHAN - 08] - LN - H is successfully converted\n",
      "d:\\Folder Kuliah Cadangan\\Sems 6\\PPL\\temp-ocr\\data\\CHP-100818X - [DAERAH PEMILIHAN - 08] - LN-POS.pdf\n",
      "CHP-100818X - [DAERAH PEMILIHAN - 08] - LN-POS\n",
      "CHP-100818X - [DAERAH PEMILIHAN - 08] - LN-POS is successfully converted\n",
      "d:\\Folder Kuliah Cadangan\\Sems 6\\PPL\\temp-ocr\\data\\CHP-101018X - [DAERAH PEMILIHAN - 10] - H.pdf\n",
      "CHP-101018X - [DAERAH PEMILIHAN - 10] - H\n",
      "CHP-101018X - [DAERAH PEMILIHAN - 10] - H is successfully converted\n",
      "d:\\Folder Kuliah Cadangan\\Sems 6\\PPL\\temp-ocr\\data\\CHP-1017 - DAERAH PEMILIHAN - 17 - H.pdf\n",
      "CHP-1017 - DAERAH PEMILIHAN - 17 - H\n",
      "CHP-1017 - DAERAH PEMILIHAN - 17 - H is successfully converted\n",
      "d:\\Folder Kuliah Cadangan\\Sems 6\\PPL\\temp-ocr\\data\\CHP-111424X2 - [ACEH - 14] - H.pdf\n",
      "CHP-111424X2 - [ACEH - 14] - H\n",
      "CHP-111424X2 - [ACEH - 14] - H is successfully converted\n",
      "d:\\Folder Kuliah Cadangan\\Sems 6\\PPL\\temp-ocr\\data\\CHP-111424X3 - [KABKOTA ACEH - 14] - H.pdf\n",
      "CHP-111424X3 - [KABKOTA ACEH - 14] - H\n",
      "CHP-111424X3 - [KABKOTA ACEH - 14] - H is successfully converted\n",
      "d:\\Folder Kuliah Cadangan\\Sems 6\\PPL\\temp-ocr\\data\\CHP-201218X - [DAERAH PEMILIHAN - 12] - H.pdf\n",
      "CHP-201218X - [DAERAH PEMILIHAN - 12] - H\n",
      "CHP-201218X - [DAERAH PEMILIHAN - 12] - H is successfully converted\n",
      "d:\\Folder Kuliah Cadangan\\Sems 6\\PPL\\temp-ocr\\data\\CHP-301218X - [DAERAH PEMILIHAN - 12] - H.pdf\n",
      "CHP-301218X - [DAERAH PEMILIHAN - 12] - H\n",
      "CHP-301218X - [DAERAH PEMILIHAN - 12] - H is successfully converted\n"
     ]
    }
   ],
   "source": [
    "curr_dir = os.getcwd()\n",
    "data_dir = os.path.join(curr_dir, 'data')\n",
    "files = os.listdir(data_dir)\n",
    "\n",
    "pdf_to_img(files, curr_dir)\n"
   ]
  },
  {
   "cell_type": "code",
   "execution_count": null,
   "metadata": {},
   "outputs": [],
   "source": []
  }
 ],
 "metadata": {
  "kernelspec": {
   "display_name": "Python 3",
   "language": "python",
   "name": "python3"
  },
  "language_info": {
   "codemirror_mode": {
    "name": "ipython",
    "version": 3
   },
   "file_extension": ".py",
   "mimetype": "text/x-python",
   "name": "python",
   "nbconvert_exporter": "python",
   "pygments_lexer": "ipython3",
   "version": "3.11.3"
  }
 },
 "nbformat": 4,
 "nbformat_minor": 2
}
